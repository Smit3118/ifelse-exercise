{
 "cells": [
  {
   "cell_type": "code",
   "execution_count": 1,
   "id": "e8cef663",
   "metadata": {},
   "outputs": [],
   "source": [
    "# if-else basics program examples."
   ]
  },
  {
   "cell_type": "code",
   "execution_count": 3,
   "id": "b1fb1d93",
   "metadata": {},
   "outputs": [
    {
     "name": "stdout",
     "output_type": "stream",
     "text": [
      "enter the value of a :1\n",
      "this is positive number\n"
     ]
    }
   ],
   "source": [
    "#1.check number is positive or negative program\n",
    "a = int (input(\"enter the value of a :\"))\n",
    "if a >= 0:\n",
    "    print(\"this is positive number\")\n",
    "else:\n",
    "    print(\"this is negative number\")"
   ]
  },
  {
   "cell_type": "code",
   "execution_count": 5,
   "id": "c0690c73",
   "metadata": {},
   "outputs": [
    {
     "name": "stdout",
     "output_type": "stream",
     "text": [
      "Sale Sale Sale........!!!!!!!!\n",
      "Enter your salary :5000\n",
      "your Discount is 20%\n",
      "Discount amount is :  1000.0\n"
     ]
    }
   ],
   "source": [
    "#2.check employee salary and based on that discount.\n",
    "print(\"Sale Sale Sale........!!!!!!!!\")\n",
    "a= float(input(\"Enter your salary :\"))\n",
    "if a <= 10000:\n",
    "    print(\"your Discount is 20%\")\n",
    "    print(\"Discount amount is : \", a*20 / 100)\n",
    "elif a <= 20000:\n",
    "    print(\"your Discount is 10%\")\n",
    "    print(\"Discount amount is : \", a*10 / 100)\n",
    "elif a <= 30000:\n",
    "    print(\"your Discount is 5%\")\n",
    "    print(\"Discount amount is : \", a*5 / 100)\n",
    "else:\n",
    "    print(\"your Salary is more then Rs. 30000/-, Hence there is not Any Discount.... Thank you....!!!!!\")"
   ]
  },
  {
   "cell_type": "code",
   "execution_count": 8,
   "id": "b675aab7",
   "metadata": {},
   "outputs": [
    {
     "name": "stdout",
     "output_type": "stream",
     "text": [
      "enter the value of a :12\n",
      "Divisibble by 3\n"
     ]
    }
   ],
   "source": [
    "#3.check whether number is divisible by 3 or 5 or both\n",
    "a = int(input(\"enter the value of a :\"))\n",
    "if a % 3 ==0:\n",
    "  if a % 5 == 0:\n",
    "    print(\"it is divisiable by 3 & 5\")\n",
    "  else:\n",
    "    print(\"Divisibble by 3\")\n",
    "else:\n",
    "  if a%5==0:\n",
    "    print(\"It is divisable by 5\")\n",
    "  else:\n",
    "    print(\"Not divisable by 3 & 5\")"
   ]
  },
  {
   "cell_type": "code",
   "execution_count": 11,
   "id": "71b80115",
   "metadata": {},
   "outputs": [
    {
     "name": "stdout",
     "output_type": "stream",
     "text": [
      "enter the value of a :15\n",
      "Number is Odd\n"
     ]
    }
   ],
   "source": [
    "#4. Check Nummber is even or odd.\n",
    "a = int(input(\"enter the value of a :\"))\n",
    "if a % 2 ==0:\n",
    "  print(\"Number is Even\")\n",
    "else:\n",
    "  print(\"Number is Odd\")"
   ]
  },
  {
   "cell_type": "code",
   "execution_count": 12,
   "id": "5e0160ec",
   "metadata": {},
   "outputs": [
    {
     "name": "stdout",
     "output_type": "stream",
     "text": [
      "Enter a string:aaaa\n",
      "Enter a string:add\n",
      "String first letter is same\n"
     ]
    }
   ],
   "source": [
    "#5. check for compare first letter of string.\n",
    "a = input(\"Enter a string:\")\n",
    "b = input(\"Enter a string:\")\n",
    "if a[0] == b[0]:\n",
    "  print(\"String first letter is same\")\n",
    "else:\n",
    "  print(\"Not same\")"
   ]
  },
  {
   "cell_type": "code",
   "execution_count": 14,
   "id": "b926847c",
   "metadata": {},
   "outputs": [
    {
     "name": "stdout",
     "output_type": "stream",
     "text": [
      "Enter your percentage:70\n",
      "First class\n"
     ]
    }
   ],
   "source": [
    "#6. percentage wise class define\n",
    "a = int(input(\"Enter your percentage:\"))\n",
    "if a <= 35:\n",
    "  print(\"Fail\")\n",
    "elif a<= 50:\n",
    "  print(\"Third class\")\n",
    "elif a<=60:\n",
    "  print(\"Second class\")\n",
    "elif a<=70:\n",
    "  print(\"First class\")\n",
    "else:\n",
    "  print(\"Distiction\")"
   ]
  },
  {
   "cell_type": "code",
   "execution_count": 17,
   "id": "0fbbdd4c",
   "metadata": {},
   "outputs": [
    {
     "name": "stdout",
     "output_type": "stream",
     "text": [
      "Enter the height in cm: 182\n",
      "Enter the weight in kg: 80\n",
      "Your Body Mass Index is 24.151672503320853\n",
      "You are healthy.\n"
     ]
    }
   ],
   "source": [
    "#7. Body mass index calculator.\n",
    "the_height = float(input(\"Enter the height in cm: \"))\n",
    "the_weight = float(input(\"Enter the weight in kg: \"))\n",
    "the_BMI = the_weight / (the_height/100)**2\n",
    "print(\"Your Body Mass Index is\", the_BMI)\n",
    "if the_BMI <= 18:\n",
    "    print(\"You are underweight.\")\n",
    "elif the_BMI <= 25:\n",
    "    print(\"You are healthy.\")\n",
    "elif the_BMI <= 30:\n",
    "    print(\"You are overweight.\")\n",
    "else:\n",
    "    print(\"You are obese.\")"
   ]
  },
  {
   "cell_type": "code",
   "execution_count": 18,
   "id": "28fa8f53",
   "metadata": {},
   "outputs": [
    {
     "name": "stdout",
     "output_type": "stream",
     "text": [
      "Enter the charater : a\n",
      "Vowel\n"
     ]
    }
   ],
   "source": [
    "#8. check character is vowel or consonent.\n",
    "l = (input(\"Enter the charater : \"))\n",
    "if (l == 'a' or l == 'e' or l == 'i' or l == 'o' or l == 'u' or l == 'A' or l == 'E' or l == 'I' or l == 'O' or l == 'U'):\n",
    "    print(\"Vowel\")\n",
    "else:\n",
    "    print(\"consonant\")"
   ]
  },
  {
   "cell_type": "code",
   "execution_count": 19,
   "id": "6df34c0c",
   "metadata": {},
   "outputs": [
    {
     "name": "stdout",
     "output_type": "stream",
     "text": [
      "enteer string : smit\n",
      "Total number of vowels in string = 1\n"
     ]
    }
   ],
   "source": [
    "#9. check how many vowels are in string.\n",
    "str1 = input(\"enteer string : \")\n",
    "vowels = 0\n",
    "\n",
    "for i in str1:\n",
    "    if(i == 'a' or i == 'e' or i == 'i' or i == 'o' or i == 'u' or i == 'A' or i == 'E' or i == 'I' or i == 'O' or i == 'U'):\n",
    "        vowels = vowels + 1\n",
    "\n",
    "print(\"Total number of vowels in string =\" , vowels)"
   ]
  },
  {
   "cell_type": "code",
   "execution_count": 22,
   "id": "6bf83291",
   "metadata": {},
   "outputs": [
    {
     "name": "stdout",
     "output_type": "stream",
     "text": [
      "Enter year:2023\n",
      "2023 is not leap year\n"
     ]
    }
   ],
   "source": [
    "#10. Check entered year is leap year or not.\n",
    "year = int(input(\"Enter year:\"))\n",
    "if year % 100 == 0:\n",
    "    if year % 400 == 0:\n",
    "        print(year,\"is leap year\")\n",
    "    else:\n",
    "        print(year,\"is not leap year\")\n",
    "else:\n",
    "    if year % 4 == 0:\n",
    "        print(year,\"is leap year\")\n",
    "    else:\n",
    "        print(year,\"is not leap year\")\n",
    "        "
   ]
  },
  {
   "cell_type": "code",
   "execution_count": null,
   "id": "d5cb6071",
   "metadata": {},
   "outputs": [],
   "source": [
    "#write a python prg to display sign of the chinese zodiac for given year in which you have born.\n",
    "year = int(input(\"Input your birth year: \"))\n",
    "if (year - 2000) % 12 == 0:\n",
    "    sign = 'Dragon'\n",
    "elif (year - 2000) % 12 == 1:\n",
    "    sign = 'Snake'\n",
    "elif (year - 2000) % 12 == 2:\n",
    "    sign = 'Horse'\n",
    "elif (year - 2000) % 12 == 3:\n",
    "    sign = 'sheep'\n",
    "elif (year - 2000) % 12 == 4:\n",
    "    sign = 'Monkey'\n",
    "elif (year - 2000) % 12 == 5:\n",
    "    sign = 'Rooster'\n",
    "elif (year - 2000) % 12 == 6:\n",
    "    sign = 'Dog'\n",
    "elif (year - 2000) % 12 == 7:\n",
    "    sign = 'Pig'\n",
    "elif (year - 2000) % 12 == 8:\n",
    "    sign = 'Rat'\n",
    "elif (year - 2000) % 12 == 9:\n",
    "    sign = 'Ox'\n",
    "elif (year - 2000) % 12 == 10:\n",
    "    sign = 'Tiger'\n",
    "else:\n",
    "    sign = 'Hare'\n",
    "\n",
    "print(\"Your Zodiac sign :\",sign)"
   ]
  },
  {
   "cell_type": "code",
   "execution_count": null,
   "id": "bf34aedc",
   "metadata": {},
   "outputs": [],
   "source": [
    "# write a python program to display astrological sign to given date of birth.\n",
    "day = int(input(\"Input birthday: \"))\n",
    "month = input(\"Input month of birth..full month in small letters: \")\n",
    "if month == 'december':\n",
    "    if (day < 22):\n",
    "        astro_sign = 'Sagittarius'\n",
    "    else:\n",
    "        astro_sign = 'capricorn'\n",
    "elif month == 'january':\n",
    "    if (day < 20):\n",
    "        astro_sign = 'Capricorn'\n",
    "    else:\n",
    "        astro_sign = 'aquarius'\n",
    "elif month == 'february':\n",
    "    if (day < 19):\n",
    "        astro_sign = 'Aquarius'\n",
    "    else:\n",
    "        astro_sign = 'pisces'\n",
    "elif month == 'march':\n",
    "    if (day < 21):\n",
    "        astro_sign = 'Pisces' \n",
    "    else:\n",
    "        astro_sign = 'aries'\n",
    "elif month == 'april':\n",
    "    if (day < 20):\n",
    "        astro_sign = 'Aries'\n",
    "    else:\n",
    "        astro_sign = 'taurus'\n",
    "elif month == 'may':\n",
    "    if (day < 21):\n",
    "        astro_sign = 'Taurus'\n",
    "    else:\n",
    "        astro_sign = 'gemini'\n",
    "elif month == 'june':\n",
    "    if (day < 21):\n",
    "        astro_sign = 'Gemini'\n",
    "    else:\n",
    "        astro_sign = 'cancer'\n",
    "elif month == 'july':\n",
    "    if (day < 23):\n",
    "        astro_sign = 'Cancer'\n",
    "    else:\n",
    "        astro_sign = 'leo'\n",
    "elif month == 'august':\n",
    "    if (day < 23):\n",
    "        astro_sign = 'Leo'\n",
    "    else: \n",
    "        astro_sign = 'virgo'\n",
    "elif month == 'september':\n",
    "    if (day < 23):\n",
    "        astro_sign = 'Virgo' \n",
    "    else: \n",
    "        astro_sign = 'libra'\n",
    "elif month == 'october':\n",
    "    if (day < 23):\n",
    "        astro_sign = 'Libra'\n",
    "    else:\n",
    "        astro_sign = 'scorpio'\n",
    "elif month == 'november':\n",
    "    if (day < 22):\n",
    "        astro_sign = 'scorpio'\n",
    "    else:\n",
    "        astro_sign = 'sagittarius'\n",
    "print(\"Your Astrological sign is :\",astro_sign)"
   ]
  },
  {
   "cell_type": "code",
   "execution_count": null,
   "id": "ad0b7d4d",
   "metadata": {},
   "outputs": [],
   "source": []
  }
 ],
 "metadata": {
  "kernelspec": {
   "display_name": "Python 3 (ipykernel)",
   "language": "python",
   "name": "python3"
  },
  "language_info": {
   "codemirror_mode": {
    "name": "ipython",
    "version": 3
   },
   "file_extension": ".py",
   "mimetype": "text/x-python",
   "name": "python",
   "nbconvert_exporter": "python",
   "pygments_lexer": "ipython3",
   "version": "3.11.4"
  }
 },
 "nbformat": 4,
 "nbformat_minor": 5
}
